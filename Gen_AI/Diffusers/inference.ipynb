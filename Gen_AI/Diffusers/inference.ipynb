{
 "cells": [
  {
   "cell_type": "code",
   "execution_count": 1,
   "metadata": {},
   "outputs": [],
   "source": [
    "#!pip install --upgrade diffusers accelerate transformers\n"
   ]
  },
  {
   "cell_type": "markdown",
   "metadata": {},
   "source": [
    "```markdown\n",
    "## Diffusers and Pretrained Models\n",
    "\n",
    "Diffusers are a type of generative model used to create images from textual descriptions. They work by iteratively refining a noisy image until it matches the given text prompt. This process is guided by a neural network trained on a large dataset of images and their corresponding descriptions.\n",
    "\n",
    "In this notebook, we are using the `StableDiffusionPipeline` from the Hugging Face `diffusers` library. This pipeline allows us to generate images based on text prompts using a pretrained model. The model we are using is `runwayml/stable-diffusion-v1-5`, which has been trained on a diverse set of images and text descriptions.\n",
    "\n",
    "The pretrained model is loaded from Hugging Face's model hub, which provides a wide range of models for various tasks. By using a pretrained model, we can leverage the knowledge it has gained from extensive training, allowing us to generate high-quality images without needing to train a model from scratch.\n",
    "```"
   ]
  },
  {
   "cell_type": "code",
   "execution_count": null,
   "metadata": {},
   "outputs": [],
   "source": [
    "import torch\n",
    "import numpy as np\n",
    "import matplotlib.pyplot as plt\n",
    "from diffusers import StableDiffusionPipeline\n",
    "from PIL import Image\n",
    "from fastcore.all import concat"
   ]
  },
  {
   "cell_type": "code",
   "execution_count": 3,
   "metadata": {},
   "outputs": [],
   "source": [
    "def create_image_grid(images, rows, cols):\n",
    "    \"\"\"\n",
    "    Create a grid of images from a list of images.\n",
    "    \n",
    "    Parameters:\n",
    "    images (list): List of images (PIL Image objects).\n",
    "    rows (int): Number of rows in the grid.\n",
    "    cols (int): Number of columns in the grid.\n",
    "    \n",
    "    Returns:\n",
    "    Image: A single image containing all the input images arranged in a grid.\n",
    "    \"\"\"\n",
    "    # Get the size of the first image\n",
    "    w, h = images[0].size\n",
    "    \n",
    "    # Create a new blank image with the size to fit the grid\n",
    "    grid = Image.new('RGB', (w * cols, h * rows))\n",
    "    \n",
    "    # Paste each image into the grid\n",
    "    for i, img in enumerate(images):\n",
    "        grid.paste(img, box=(i % cols * w, i // cols * h))\n",
    "    \n",
    "    return grid"
   ]
  },
  {
   "cell_type": "markdown",
   "metadata": {},
   "source": [
    "Loading the pretrained model, using the dtype to torch.float16 for efficient compute\n"
   ]
  },
  {
   "cell_type": "code",
   "execution_count": null,
   "metadata": {},
   "outputs": [],
   "source": [
    "model_path=\"runwayml/stable-diffusion-v1-5\"\n",
    "cache_dir=\"model_cache\"\n",
    "torch.manual_seed(1024)\n",
    "try:\n",
    "    pipe = StableDiffusionPipeline.from_pretrained(model_path, cache_dir=cache_dir,dtype=torch.float16)\n",
    "    pipe=pipe.to(\"cuda\")\n",
    "    print(\"Model loaded successfully\")\n",
    "except Exception as e:\n",
    "    print(f\"Error loading the model :{e}\")\n",
    "    "
   ]
  },
  {
   "cell_type": "markdown",
   "metadata": {},
   "source": [
    "### Playing with Guidance Score\n",
    "\n",
    "When generating images using a text-to-image model like Stable Diffusion, the **guidance score** (also known as the guidance scale) plays a crucial role in determining how closely the generated image follows the given text prompt. By adjusting the guidance score, you can control the balance between creativity and adherence to the prompt.\n",
    "\n",
    "#### Lower Guidance Score\n",
    "\n",
    "With a lower guidance score, the model generates images more freely, without closely following the text prompt. This can result in more creative and diverse images, but they may not accurately reflect the prompt.\n",
    "\n",
    "#### Higher Guidance Score\n",
    "\n",
    "With a higher guidance score, the model pays more attention to the text prompt, generating images that closely match the description. This can result in images that are more aligned with the prompt but may be less diverse.\n",
    "\n",
    "##### The Process\n",
    "\n",
    "The process works as follows:\n",
    "\n",
    "1. **Generate Two Images**: The model first generates an image without any prompt, resulting in a kind of random image. Then, the model generates a second image based on the prompt.\n",
    "2. **Combine Images**: The guidance scale acts like a weighted average, combining these two images to produce the final output. A higher guidance scale gives more weight to the prompt-based image, while a lower guidance scale gives more weight to the random image.\n",
    "\n",
    "**Example Code to Generate Images with Different Guidance Scores**\n",
    "\n",
    "Here's an example of how you can generate images with different guidance scores using the Stable Diffusion model:\n"
   ]
  },
  {
   "cell_type": "code",
   "execution_count": null,
   "metadata": {},
   "outputs": [],
   "source": [
    "\n",
    "prompt=\"Astronaut in a jungle, cold color palette, muted colors, detailed, 8k\"\n",
    "num_row,num_col=3,3\n",
    "prompts=[prompt]*num_col\n",
    "images=concat(pipe(prompts,guidance_scale=g).images for g in [0.5,2.5,7.5])\n",
    "\n"
   ]
  },
  {
   "cell_type": "code",
   "execution_count": null,
   "metadata": {},
   "outputs": [],
   "source": [
    "\"\"\"\n",
    "Create a grid of images from a list of images results are similar for lower guidance scale low quality and high guidance scale high quality\n",
    "\"\"\"\n",
    "grid=create_image_grid(images,num_row,num_col)\n",
    "grid"
   ]
  },
  {
   "cell_type": "code",
   "execution_count": null,
   "metadata": {},
   "outputs": [],
   "source": [
    "torch.manual_seed(33)\n",
    "prompt=\"Astronaut in a jungle, cold color palette, muted colors, detailed, 8k\"\n",
    "num_row,num_col=1,1\n",
    "prompts=[prompt]*num_col\n",
    "image_diff_num_inference=concat(pipe(prompts,num_inference_steps=g).images for g in [10,20,40,50])"
   ]
  },
  {
   "cell_type": "code",
   "execution_count": null,
   "metadata": {},
   "outputs": [],
   "source": [
    "from IPython.display import display\n",
    "from PIL import Image\n",
    "\n",
    "def display_images_inline(images):\n",
    "    \"\"\"\n",
    "    Display images inline in the Jupyter Notebook.\n",
    "    \"\"\"\n",
    "    for img,step in zip(images,[5,10,15,20,25,30,35,40,45,50]):\n",
    "        print(f\"Number of inference steps :{step}\")\n",
    "        display(img)\n",
    "\n",
    "# Example usage\n",
    "display_images_inline(image_diff_num_inference)"
   ]
  },
  {
   "cell_type": "markdown",
   "metadata": {},
   "source": [
    "### Negative Prompte \n",
    "This technique used to guide the model away from generating certian deatures or elements in the output image. THis is essentially the opposite of a positive prompt, which specifices what the model\n",
    "should include in the generated image . "
   ]
  },
  {
   "cell_type": "code",
   "execution_count": null,
   "metadata": {},
   "outputs": [],
   "source": [
    "torch.manual_seed(23)\n",
    "prompt=\"A men wearning green shirt eating pizza\"\n",
    "pipe(prompts).images[0]"
   ]
  },
  {
   "cell_type": "code",
   "execution_count": null,
   "metadata": {},
   "outputs": [],
   "source": [
    "negative_prompt=\"green shirt\"\n",
    "pipe(prompts,negative_prompts=[negative_prompt]).images[0]"
   ]
  },
  {
   "cell_type": "code",
   "execution_count": 39,
   "metadata": {},
   "outputs": [],
   "source": [
    "def generate_images(pipe, prompts, batch_size=4,):\n",
    "    \"\"\"\n",
    "    Generate images in batches using Stable Diffusion.\n",
    "    \n",
    "    Parameters:\n",
    "    pipe (StableDiffusionPipeline): Pretrained Stable Diffusion pipeline.\n",
    "    prompts (list): List of text prompts to generate images.\n",
    "    batch_size (int): Number of prompts to process in each batch.\n",
    "    Returns:\n",
    "    list: List of generated images.\n",
    "    \"\"\"\n",
    "    # Load the pretrained model with mixed precision\n",
    "   \n",
    "    \n",
    "    # Generate images in batches\n",
    "    images = []\n",
    "    for i in range(0, len(prompts), batch_size):\n",
    "        batch_prompts = prompts[i:i+batch_size]\n",
    "        batch_images = pipe(batch_prompts, num_inference_steps=50).images\n",
    "        images.extend(batch_images)\n",
    "    return images"
   ]
  },
  {
   "cell_type": "code",
   "execution_count": null,
   "metadata": {},
   "outputs": [],
   "source": [
    "!pip install imageio\n",
    "import imageio\n",
    "\n",
    "def save_images_as_gif(images, output_path=\"output.gif\", duration=500):\n",
    "    \"\"\"\n",
    "    Save a list of images as a GIF.\n",
    "    \n",
    "    Parameters:\n",
    "    images (list): List of PIL Image objects.\n",
    "    output_path (str): Path to save the GIF.\n",
    "    duration (int): Duration of each frame in milliseconds.\n",
    "    \"\"\"\n",
    "    imageio.mimsave(output_path, [imageio.imread(img) for img in images], duration=duration)"
   ]
  },
  {
   "cell_type": "code",
   "execution_count": null,
   "metadata": {},
   "outputs": [],
   "source": [
    "# Example usage\n",
    "prompts = [\n",
    "    \"A beautiful sunset over the mountains\",\n",
    "    \"A futuristic cityscape at night\",\n",
    "    \"A serene beach with palm trees\",\n",
    "    \"A dense forest with a river\",\n",
    "    \"A snowy mountain peak\",\n",
    "    \"A bustling market in a small town\",\n",
    "    \"A tranquil lake surrounded by trees\",\n",
    "    \"A vibrant coral reef underwater\"\n",
    "]\n",
    "\n",
    "# Generate images with a batch size of 4\n",
    "images = generate_images(pipe,prompts, batch_size=4)\n",
    "\n",
    "# Display the generated images\n",
    "for img in images:\n",
    "    display(img)\n",
    "    \n",
    "save_images_as_gif(images, output_path=\"sunset_generated_image.gif\")"
   ]
  },
  {
   "cell_type": "code",
   "execution_count": null,
   "metadata": {},
   "outputs": [],
   "source": [
    "prompts = [\n",
    "    \"A tree covered in snow during a winter storm\",\n",
    "    \"A bare tree standing in a snowy landscape\",\n",
    "    \"A tree with icicles hanging from its branches in winter\",\n",
    "    \"A tree with lush green leaves under a bright summer sun\",\n",
    "    \"A tree providing shade in a sunny park during summer\",\n",
    "    \"A tree with children playing around it on a hot summer day\",\n",
    "    \"A tree with vibrant orange and red leaves in autumn\",\n",
    "    \"A tree shedding its leaves in a fall forest\",\n",
    "    \"A tree with a carpet of fallen leaves around it in autumn\",\n",
    "    \"A tree in a dense, lush green forest\",\n",
    "    \"A tree surrounded by vibrant green foliage\",\n",
    "    \"A tree in a lush green meadow with wildflowers\"\n",
    "]\n",
    "\n",
    "# Generate images for the prompts\n",
    "images = generate_images(prompts,pipe, batch_size=4)\n",
    "\n",
    "# Display the generated images\n",
    "for img in images:\n",
    "    display(img)\n",
    "\n",
    "# Save the images as a GIF\n",
    "save_images_as_gif(images, output_path=\"tree_scenes.gif\")"
   ]
  },
  {
   "cell_type": "code",
   "execution_count": null,
   "metadata": {},
   "outputs": [],
   "source": [
    "pipe"
   ]
  },
  {
   "cell_type": "markdown",
   "metadata": {},
   "source": [
    "#### Decomposing the elements of the diffusers"
   ]
  },
  {
   "cell_type": "code",
   "execution_count": null,
   "metadata": {},
   "outputs": [],
   "source": [
    "vae=pipe.vae # Variational Autoencoder from diffusion model\n",
    "text_tokenizer=pipe.tokenizer\n",
    "text_encoder=pipe.text_encoder\n",
    "unet=pipe.unet\n",
    "unet.to(\"cuda\")\n",
    "text_encoder.to(\"cuda\")\n",
    "vae.to(\"cuda\")\n"
   ]
  },
  {
   "cell_type": "code",
   "execution_count": null,
   "metadata": {},
   "outputs": [],
   "source": [
    "'''\n",
    "    Purpose of the tokenizer function is to split the text into tokens eg. words, subwords, or characters and convert them into token IDs based on the predefined vocabulary.\n",
    "    also ensures the all the tokens input have the same length by padding or truncating the input text.\n",
    "    input:str : Text input to tokenize.\n",
    "    Returns: input_ids (torch.Tensor): Tensor of token IDs for the input text.\n",
    "    input_mask (torch.Tensor): Tensor of attention mask for the input text.\n",
    "'''\n",
    "\n"
   ]
  },
  {
   "cell_type": "code",
   "execution_count": null,
   "metadata": {},
   "outputs": [],
   "source": [
    "text_tokenizer,text_encoder"
   ]
  },
  {
   "cell_type": "code",
   "execution_count": 59,
   "metadata": {},
   "outputs": [],
   "source": [
    "unet=pipe.unet"
   ]
  },
  {
   "cell_type": "code",
   "execution_count": null,
   "metadata": {},
   "outputs": [],
   "source": [
    "schduler=pipe.scheduler #defualt schduler\n",
    "schduler"
   ]
  },
  {
   "cell_type": "code",
   "execution_count": null,
   "metadata": {},
   "outputs": [],
   "source": [
    "from diffusers import DDIMScheduler\n",
    "\n",
    "ddim = DDIMScheduler.from_config(pipe.scheduler.config)\n",
    "ddim\n"
   ]
  },
  {
   "cell_type": "code",
   "execution_count": null,
   "metadata": {},
   "outputs": [],
   "source": [
    "from diffusers import EulerAncestralDiscreteScheduler\n",
    "\n",
    "EulerAD= EulerAncestralDiscreteScheduler.from_config(pipe.scheduler.config)\n",
    "EulerAD\n"
   ]
  },
  {
   "cell_type": "code",
   "execution_count": null,
   "metadata": {},
   "outputs": [],
   "source": [
    "from diffusers import DPMSolverMultistepScheduler\n",
    "\n",
    "DPMMS = DPMSolverMultistepScheduler.from_config(pipe.scheduler.config)\n",
    "DPMMS"
   ]
  },
  {
   "cell_type": "code",
   "execution_count": null,
   "metadata": {},
   "outputs": [],
   "source": [
    "from diffusers  import LMSDiscreteScheduler\n",
    "LMSDS=LMSDiscreteScheduler.from_config(pipe.scheduler.config)\n"
   ]
  },
  {
   "cell_type": "code",
   "execution_count": null,
   "metadata": {},
   "outputs": [],
   "source": [
    "generator = torch.Generator(device=\"cuda\").manual_seed(8)\n",
    "image = pipe(prompt, generator=generator).images[0]\n",
    "image"
   ]
  },
  {
   "cell_type": "code",
   "execution_count": null,
   "metadata": {},
   "outputs": [],
   "source": [
    "vae.to(\"cuda\")\n",
    "text_encoder.to(\"cuda\")\n",
    "unet.to(\"cuda\")\n",
    "text_tokenizer\n"
   ]
  },
  {
   "cell_type": "code",
   "execution_count": 82,
   "metadata": {},
   "outputs": [],
   "source": [
    "# Some setting for the model\n",
    "prompt=\"Cute cat with a hat, cartoon style, vibrant colors, detailed, 8k\"\n",
    "height=300\n",
    "width=300\n",
    "num_inference_steps=30\n",
    "guidance_scale=7\n",
    "generator = torch.Generator(device=\"cuda\").manual_seed(8) # Seed generator to create the initial latent noise\n",
    "batch_size=1\n",
    "\n"
   ]
  },
  {
   "cell_type": "code",
   "execution_count": null,
   "metadata": {},
   "outputs": [],
   "source": [
    "# Text preprocessing\n",
    "text_input=text_tokenizer(prompt,padding=\"max_length\",max_length=text_tokenizer.model_max_length,truncation=True,return_tensors=\"pt\")\n",
    "text_input"
   ]
  },
  {
   "cell_type": "code",
   "execution_count": null,
   "metadata": {},
   "outputs": [],
   "source": [
    "with torch.no_grad():\n",
    "    text_embeddings = text_encoder(text_input.input_ids.to(\"cuda\"))[0]\n",
    "print(f\"Shape of he clip embedding :{text_embeddings[0].shape}\")\n",
    "print(f\"Shape of the text input :{text_input.input_ids.shape}\")"
   ]
  },
  {
   "cell_type": "code",
   "execution_count": null,
   "metadata": {},
   "outputs": [],
   "source": [
    "[\"\"]*batch_size"
   ]
  },
  {
   "cell_type": "code",
   "execution_count": null,
   "metadata": {},
   "outputs": [],
   "source": [
    "max_length=text_input.input_ids.shape[-1]\n",
    "uncond_input=text_tokenizer([\"\"]*batch_size,padding=\"max_length\",max_length=max_length,truncation=True,return_tensors=\"pt\")\n",
    "uncond_input.to(\"cuda\")"
   ]
  },
  {
   "cell_type": "code",
   "execution_count": 87,
   "metadata": {},
   "outputs": [],
   "source": [
    "with torch.no_grad():\n",
    "    uncond_embeddings = text_encoder(uncond_input.input_ids.to(\"cuda\"))[0]"
   ]
  },
  {
   "cell_type": "code",
   "execution_count": 90,
   "metadata": {},
   "outputs": [],
   "source": [
    "text_embeddings = torch.cat([uncond_embeddings, text_embeddings])"
   ]
  },
  {
   "cell_type": "code",
   "execution_count": null,
   "metadata": {},
   "outputs": [],
   "source": [
    "text_embeddings.shape,text_embeddings.shape,text_embeddings.shape"
   ]
  },
  {
   "cell_type": "code",
   "execution_count": 92,
   "metadata": {},
   "outputs": [],
   "source": [
    "def set_timesteps(scheduler,num_inference_steps):\n",
    "    \"\"\" Set the number of inference steps for the scheduler. \n",
    "    Args:\n",
    "        scheduler (_type_): _description_\n",
    "        num_inference_steps (_type_): _description_\n",
    "    \"\"\"\n",
    "    scheduler.set_timesteps(num_inference_steps)\n",
    "    scheduler.timesteps=scheduler.timesteps.to(torch.float16)"
   ]
  },
  {
   "cell_type": "code",
   "execution_count": 93,
   "metadata": {},
   "outputs": [],
   "source": [
    "set_timesteps(LMSDS,num_inference_steps)"
   ]
  },
  {
   "cell_type": "code",
   "execution_count": null,
   "metadata": {},
   "outputs": [],
   "source": [
    "latents = torch.randn(\n",
    "  (batch_size, unet.in_channels, height // 8, width // 8),\n",
    "  generator=generator,device=\"cuda\"\n",
    ")"
   ]
  },
  {
   "cell_type": "code",
   "execution_count": 95,
   "metadata": {},
   "outputs": [],
   "source": [
    "def display_tensor_as_image(tensor,title=\"Image\"):\n",
    "    \"\"\"\n",
    "    Display a tensor as an image using matplotlib.\n",
    "    Parameters:\n",
    "    tensor (torch.Tensor): Input tensor to display as an image.\n",
    "    title (str): Title of the image.\n",
    "    \n",
    "    \"\"\"\n",
    "    # Move the tensor to CPU and detach from GPU\n",
    "    tensor = tensor.cpu().detach()\n",
    "    \n",
    "    # Normalize the tensor values to be in the range [0, 1]\n",
    "    tensor=(tensor-tensor.min())/(tensor.max()-tensor.min())\n",
    "    \n",
    "    # Convert the tensor to a Numpy arrary\n",
    "    np_image = tensor.numpy()\n",
    "    \n",
    "    #Transpose array to [H,W,C] for displaying\n",
    "    np_image=np.transpose(np_image,(1,2,0))\n",
    "    \n",
    "    # Display the image using matplotlib\n",
    "    plt.figure(figsize=(8,8))\n",
    "    plt.imshow(np_image)\n",
    "    plt.axis(\"off\")\n",
    "    plt.title(title)\n",
    "    plt.show()\n",
    "    \n",
    "    "
   ]
  },
  {
   "cell_type": "code",
   "execution_count": null,
   "metadata": {},
   "outputs": [],
   "source": [
    "# Set environment variable to avoid OpenMP runtime conflict\n",
    "import os\n",
    "os.environ[\"KMP_DUPLICATE_LIB_OK\"] = \"TRUE\"\n",
    "display_tensor_as_image(latents[0],title=\"Initial Latent Noise\")    "
   ]
  },
  {
   "cell_type": "code",
   "execution_count": null,
   "metadata": {},
   "outputs": [],
   "source": [
    "latents=latents.to(\"cuda\")\n",
    "latents = latents *LMSDS.init_noise_sigma # Scaling (previous versions did latents = latents * self.scheduler.sigmas[0]\n",
    "display_tensor_as_image(latents[0],\"Sigma noise added to latents\")"
   ]
  },
  {
   "cell_type": "code",
   "execution_count": 98,
   "metadata": {},
   "outputs": [],
   "source": [
    "from torch import autocast\n",
    "from tqdm import tqdm\n"
   ]
  },
  {
   "cell_type": "code",
   "execution_count": null,
   "metadata": {},
   "outputs": [],
   "source": [
    "with autocast(\"cuda\"):  # will fallback to CPU if no CUDA; no autocast for MPS\n",
    "    for i, t in tqdm(enumerate(LMSDS.timesteps), total=len(LMSDS.timesteps)):\n",
    "        # expand the latents if we are doing classifier-free guidance to avoid doing two forward passes.\n",
    "        latent_model_input = torch.cat([latents] * 2)\n",
    "        sigma = LMSDS.sigmas[i]\n",
    "        # Scale the latents (preconditioning):\n",
    "        # latent_model_input = latent_model_input / ((sigma**2 + 1) ** 0.5) # Diffusers 0.3 and below\n",
    "        latent_model_input = LMSDS.scale_model_input(latent_model_input, t)\n",
    "\n",
    "        # predict the noise residual\n",
    "        with torch.no_grad():\n",
    "            noise_pred = unet(latent_model_input, t, encoder_hidden_states=text_embeddings).sample\n",
    "\n",
    "        # perform guidance\n",
    "        noise_pred_uncond, noise_pred_text = noise_pred.chunk(2)\n",
    "        noise_pred = noise_pred_uncond + guidance_scale * (noise_pred_text - noise_pred_uncond)\n",
    "\n",
    "        # compute the previous noisy sample x_t -> x_t-1\n",
    "        # latents = scheduler.step(noise_pred, i, latents)[\"prev_sample\"] # Diffusers 0.3 and below\n",
    "        latents = LMSDS.step(noise_pred, t, latents).prev_sample\n",
    "\n"
   ]
  },
  {
   "cell_type": "code",
   "execution_count": null,
   "metadata": {},
   "outputs": [],
   "source": [
    "torch_device = \"cuda\" if torch.cuda.is_available() else \"mps\" if torch.backends.mps.is_available() else \"cpu\"\n",
    "torch_device"
   ]
  },
  {
   "cell_type": "code",
   "execution_count": null,
   "metadata": {},
   "outputs": [],
   "source": [
    "prompt = [\"An astronaut in a jungle, cold color palette, muted colors, detailed, 8k\"]\n",
    "height = 512                        # default height of Stable Diffusion\n",
    "width = 512                         # default width of Stable Diffusion\n",
    "num_inference_steps = 30            # Number of denoising steps\n",
    "guidance_scale = 7.5                # Scale for classifier-free guidance\n",
    "generator = torch.manual_seed(32)   # Seed generator to create the inital latent noise\n",
    "batch_size = 1\n",
    "\n",
    "# Prep text\n",
    "text_input = text_tokenizer(prompt, padding=\"max_length\", max_length=text_tokenizer.model_max_length, truncation=True, return_tensors=\"pt\")\n",
    "with torch.no_grad():\n",
    "    text_embeddings = text_encoder(text_input.input_ids.to(torch_device))[0]\n",
    "max_length = text_input.input_ids.shape[-1]\n",
    "uncond_input=text_tokenizer([\"\"]*batch_size,padding=\"max_length\",max_length=max_length,truncation=True,return_tensors=\"pt\")\n",
    "\n",
    "with torch.no_grad():\n",
    "    uncond_embeddings = text_encoder(uncond_input.input_ids.to(torch_device))[0]\n",
    "text_embeddings = torch.cat([uncond_embeddings, text_embeddings])\n",
    "\n",
    "# Prep Scheduler\n",
    "def set_timesteps(scheduler, num_inference_steps):\n",
    "    scheduler.set_timesteps(num_inference_steps)\n",
    "    scheduler.timesteps = scheduler.timesteps.to(torch.float32) # minor fix to ensure MPS compatibility, fixed in diffusers PR 3925\n",
    "\n",
    "set_timesteps(LMSDS,num_inference_steps)\n",
    "\n",
    "# Prep latents\n",
    "latents = torch.randn(\n",
    "  (batch_size, unet.in_channels, height // 8, width // 8),\n",
    "  generator=generator,\n",
    ")\n",
    "latents = latents.to(torch_device)\n",
    "latents = latents * LMSDS.init_noise_sigma # Scaling (previous versions did latents = latents * self.scheduler.sigmas[0]\n",
    "display_tensor_as_image(latents[0], \"Initial Latent Noise\")\n",
    "# Loop\n",
    "with autocast(\"cuda\"):  # will fallback to CPU if no CUDA; no autocast for MPS\n",
    "    for i, t in tqdm(enumerate(LMSDS.timesteps), total=len(LMSDS.timesteps)):\n",
    "        # expand the latents if we are doing classifier-free guidance to avoid doing two forward passes.\n",
    "        latent_model_input = torch.cat([latents] * 2)\n",
    "        sigma = LMSDS.sigmas[i]\n",
    "        # Scale the latents (preconditioning):\n",
    "        # latent_model_input = latent_model_input / ((sigma**2 + 1) ** 0.5) # Diffusers 0.3 and below\n",
    "        latent_model_input = LMSDS.scale_model_input(latent_model_input, t)\n",
    "\n",
    "        # predict the noise residual\n",
    "        with torch.no_grad():\n",
    "            noise_pred = unet(latent_model_input, t, encoder_hidden_states=text_embeddings).sample\n",
    "\n",
    "        # perform guidance\n",
    "        noise_pred_uncond, noise_pred_text = noise_pred.chunk(2)\n",
    "        noise_pred = noise_pred_uncond + guidance_scale * (noise_pred_text - noise_pred_uncond)\n",
    "\n",
    "        # compute the previous noisy sample x_t -> x_t-1\n",
    "        # latents = scheduler.step(noise_pred, i, latents)[\"prev_sample\"] # Diffusers 0.3 and below\n",
    "        latents = LMSDS.step(noise_pred, t, latents).prev_sample\n",
    "\n",
    "# scale and decode the image latents with vae\n",
    "latents = 1 / 0.18215 * latents\n",
    "with torch.no_grad():\n",
    "    image = vae.decode(latents).sample\n",
    "\n",
    "# Display\n",
    "image = (image / 2 + 0.5).clamp(0, 1)\n",
    "image = image.detach().cpu().permute(0, 2, 3, 1).numpy()\n",
    "images = (image * 255).round().astype(\"uint8\")\n",
    "pil_images = [Image.fromarray(image) for image in images]\n",
    "pil_images[0]"
   ]
  },
  {
   "cell_type": "markdown",
   "metadata": {},
   "source": [
    "### The Autoencoder (AE)\n",
    "The autoencoder can encode the image inot some sort of the latent representation, and decode this back into the image. I've wrapped the code for this into a couple of funciton here we so \n",
    "can see whatthis loook like in actions"
   ]
  },
  {
   "cell_type": "code",
   "execution_count": 132,
   "metadata": {},
   "outputs": [],
   "source": [
    "from torchvision import transforms \n",
    "def pil_to_latent(input_im):\n",
    "    # Single image -> single latent in a batch (so size 1, 4, 64, 64)\n",
    "    with torch.no_grad():\n",
    "        latent = vae.encode(transforms.ToTensor()(input_im).unsqueeze(0).to(torch_device)*2-1) # Note scaling\n",
    "    return 0.18215 * latent.latent_dist.sample()\n",
    "\n",
    "def latents_to_pil(latents):\n",
    "    latents=(1/0.18215)*latents\n",
    "    with torch.no_grad():\n",
    "        image = vae.decode(latents).sample\n",
    "    image = (image / 2 + 0.5).clamp(0, 1)\n",
    "    image = image.detach().cpu().permute(0, 2, 3, 1).numpy()\n",
    "    images = (image * 255).round().astype(\"uint8\")\n",
    "    pil_images = [Image.fromarray(image) for image in images]\n",
    "    return pil_images[0]"
   ]
  },
  {
   "cell_type": "code",
   "execution_count": null,
   "metadata": {},
   "outputs": [],
   "source": [
    "input_image = Image.open('eagle.jpg').resize((512, 512))\n",
    "input_image"
   ]
  },
  {
   "cell_type": "code",
   "execution_count": null,
   "metadata": {},
   "outputs": [],
   "source": [
    "# Encode to the latent space\n",
    "encoded=pil_to_latent(input_image)\n",
    "display_tensor_as_image(encoded[0],title=\"Encoded Image\")"
   ]
  },
  {
   "cell_type": "code",
   "execution_count": null,
   "metadata": {},
   "outputs": [],
   "source": [
    "print(f\"Shape of the encoded latent representation :{encoded[0].shape}\")\n",
    "# Visualize the channel of this latent representation\n",
    "fig,axs=plt.subplots(1,4,figsize=(20,5))\n",
    "for i in range(4):\n",
    "    axs[i].imshow(encoded[0][i].cpu().detach().numpy(),cmap=\"Greys\")\n",
    "    axs[i].axis(\"off\")\n",
    "    axs[i].set_title(f\"Channel {i}\")"
   ]
  },
  {
   "cell_type": "code",
   "execution_count": null,
   "metadata": {},
   "outputs": [],
   "source": [
    "decode=latents_to_pil(encoded)\n",
    "decode,input_image"
   ]
  },
  {
   "cell_type": "code",
   "execution_count": null,
   "metadata": {},
   "outputs": [],
   "source": [
    "print(f\"Shape of the decoded image :{decode.size}\")\n"
   ]
  },
  {
   "cell_type": "code",
   "execution_count": null,
   "metadata": {},
   "outputs": [],
   "source": [
    "\n",
    "fig, axs = plt.subplots(1, 3, figsize=(15, 5))\n",
    "\n",
    "# Display the input image\n",
    "axs[0].imshow(input_image)\n",
    "axs[0].axis(\"off\")\n",
    "axs[0].set_title(\"Input Image\")\n",
    "width, height = input_image.size\n",
    "axs[0].text(0.5, -0.1, f\"Size: {width}x{height}\", ha='center', va='center', transform=axs[0].transAxes)\n",
    "\n",
    "# Display the encoded latent representation\n",
    "axs[1].imshow(encoded[0][0].cpu().detach().numpy(), cmap=\"Greys\")\n",
    "axs[1].axis(\"off\")\n",
    "axs[1].set_title(\"Encoded Latent Representation\")\n",
    "encoded_width, encoded_height = encoded[0][0].shape\n",
    "axs[1].text(0.5, -0.1, f\"Size: {encoded_width}x{encoded_height}\", ha='center', va='center', transform=axs[1].transAxes)\n",
    "\n",
    "# Display the decoded image\n",
    "axs[2].imshow(decode)\n",
    "axs[2].axis(\"off\")\n",
    "axs[2].set_title(\"Decoded Image\")\n",
    "decoded_width, decoded_height = decode.size\n",
    "axs[2].text(0.5, -0.1, f\"Size: {decoded_width}x{decoded_height}\", ha='center', va='center', transform=axs[2].transAxes)\n",
    "\n",
    "# Display the plot\n",
    "plt.show()"
   ]
  },
  {
   "cell_type": "markdown",
   "metadata": {},
   "source": [
    "### Scheduler understanding\n",
    "During training, we add some noise to an image an then have the model try to predict the noise. If we always added a ton of noise, the model might not have much to work with. If we only add a tiny amount, the model won't be able to do much with the random starting points we use for sampling. So during training the amount is varied, according to some distribution.\n",
    "\n",
    "During sampling, we want to 'denoise' over a number of steps. How many steps and how much noise we should aim for at each step are going to affect the final result.\n",
    "\n",
    "The scheduler is in charge of handling all of these details. For example: scheduler = LMSDiscreteScheduler(beta_start=0.00085, beta_end=0.012, beta_schedule=\"scaled_linear\", num_train_timesteps=1000) sets up a scheduler that matches the one used to train this model. When we want to sample over a smaller number of steps, we set this up with scheduler.set_timesteps:"
   ]
  },
  {
   "cell_type": "code",
   "execution_count": 149,
   "metadata": {},
   "outputs": [],
   "source": [
    "set_timesteps(LMSDS,15)"
   ]
  },
  {
   "cell_type": "code",
   "execution_count": null,
   "metadata": {},
   "outputs": [],
   "source": [
    "### See these in terms of the original 1000 setps used in  mdoel training\n",
    "LMSDS.timesteps"
   ]
  },
  {
   "cell_type": "code",
   "execution_count": null,
   "metadata": {},
   "outputs": [],
   "source": [
    "# Look at the equivalent noise levels for each of the 15 steps\n",
    "LMSDS.sigmas"
   ]
  },
  {
   "cell_type": "code",
   "execution_count": null,
   "metadata": {},
   "outputs": [],
   "source": [
    "plt.plot(LMSDS.sigmas)\n",
    "plt.title('Noise Schedule')\n",
    "plt.xlabel('Sampling step')\n",
    "plt.ylabel('sigma')\n",
    "plt.show()\n",
    "     "
   ]
  },
  {
   "cell_type": "code",
   "execution_count": null,
   "metadata": {},
   "outputs": [],
   "source": [
    "noise=torch.randn_like(encoded) # Random noise\n",
    "sampleing_steps=10 # Number of sampling steps\n",
    "encoded_and_noise=LMSDS.add_noise(encoded, noise, timesteps=torch.tensor([LMSDS.timesteps[sampleing_steps]]))\n",
    "latents_to_pil(encoded_and_noise.float())"
   ]
  },
  {
   "cell_type": "markdown",
   "metadata": {},
   "source": [
    "### Example of Image2Image\n",
    "This model starts from encoded Image then add noise"
   ]
  },
  {
   "cell_type": "code",
   "execution_count": null,
   "metadata": {},
   "outputs": [],
   "source": [
    "# Settings (same as before except for the new prompt)\n",
    "prompt = [\"A colorful dancer, nat geo photo\"]\n",
    "height = 512                        # default height of Stable Diffusion\n",
    "width = 512                         # default width of Stable Diffusion\n",
    "num_inference_steps = 50            # Number of denoising steps\n",
    "guidance_scale = 8                  # Scale for classifier-free guidance\n",
    "generator = torch.manual_seed(32)   # Seed generator to create the inital latent noise\n",
    "batch_size = 1\n",
    "\n",
    "# Prep text (same as before)\n",
    "text_input = text_tokenizer(prompt, padding=\"max_length\", max_length=text_tokenizer.model_max_length, truncation=True, return_tensors=\"pt\")\n",
    "with torch.no_grad():\n",
    "    text_embeddings = text_encoder(text_input.input_ids.to(torch_device))[0]\n",
    "max_length = text_input.input_ids.shape[-1]\n",
    "uncond_input=text_tokenizer([\"\"]*batch_size,padding=\"max_length\",max_length=max_length,truncation=True,return_tensors=\"pt\")\n",
    "uncond_input.to(\"cuda\")\n",
    "with torch.no_grad():\n",
    "    uncond_embeddings = text_encoder(uncond_input.input_ids.to(torch_device))[0]\n",
    "text_embeddings = torch.cat([uncond_embeddings, text_embeddings])\n",
    "\n",
    "# Prep Scheduler (setting the number of inference steps)\n",
    "set_timesteps(LMSDS, num_inference_steps)\n",
    "\n",
    "# Prep latents (noising appropriately for start_step)\n",
    "start_step = 10\n",
    "start_sigma = LMSDS.sigmas[start_step]\n",
    "noise = torch.randn_like(encoded)\n",
    "latents = LMSDS.add_noise(encoded, noise, timesteps=torch.tensor([LMSDS.timesteps[start_step]]))\n",
    "display_tensor_as_image(latents[0], f\"Latent Noise at Step {start_step} (sigma={start_sigma})\") \n",
    "latents = latents.to(torch_device).float()\n",
    "\n",
    "# Loop\n",
    "for i, t in tqdm(enumerate(LMSDS.timesteps), total=len(LMSDS.timesteps)):\n",
    "    if i >= start_step: # << This is the only modification to the loop we do\n",
    "\n",
    "        # expand the latents if we are doing classifier-free guidance to avoid doing two forward passes.\n",
    "        latent_model_input = torch.cat([latents] * 2)\n",
    "        sigma = LMSDS.sigmas[i]\n",
    "        latent_model_input = LMSDS.scale_model_input(latent_model_input, t)\n",
    "\n",
    "        # predict the noise residual\n",
    "        with torch.no_grad():\n",
    "            noise_pred = unet(latent_model_input, t, encoder_hidden_states=text_embeddings)[\"sample\"]\n",
    "\n",
    "        # perform guidance\n",
    "        noise_pred_uncond, noise_pred_text = noise_pred.chunk(2)\n",
    "        noise_pred = noise_pred_uncond + guidance_scale * (noise_pred_text - noise_pred_uncond)\n",
    "\n",
    "        # compute the previous noisy sample x_t -> x_t-1\n",
    "        latents = LMSDS.step(noise_pred, t, latents).prev_sample\n",
    "\n"
   ]
  },
  {
   "cell_type": "code",
   "execution_count": null,
   "metadata": {},
   "outputs": [],
   "source": [
    "latents_to_pil(latents)"
   ]
  },
  {
   "cell_type": "markdown",
   "metadata": {},
   "source": [
    "### Embedding pipline\n",
    "We will use a text encoder model to trun our text into  a set of 'embedding' which are fed to the diffusion model as conditioning. Let's follow a piece of text through this process and see how it work."
   ]
  },
  {
   "cell_type": "code",
   "execution_count": 194,
   "metadata": {},
   "outputs": [],
   "source": [
    "# Examplary prompt\n",
    "promot=\"A picture of the puppy in the snow, cold color palette, muted colors, detailed, 8k\""
   ]
  },
  {
   "cell_type": "code",
   "execution_count": null,
   "metadata": {},
   "outputs": [],
   "source": [
    "#trick to see the predefined funcitons\n",
    "??text_tokenizer"
   ]
  },
  {
   "cell_type": "code",
   "execution_count": null,
   "metadata": {},
   "outputs": [],
   "source": [
    "# Turn the text into a sequence of tokens:\n",
    "text_input= text_tokenizer(promot,padding=\"max_length\",max_length=text_tokenizer.model_max_length,truncation=True,return_tensors=\"pt\")\n",
    "text_input[\"input_ids\"]# Token IDs for the input text"
   ]
  },
  {
   "cell_type": "code",
   "execution_count": null,
   "metadata": {},
   "outputs": [],
   "source": [
    "for t in text_input[\"input_ids\"][0]:\n",
    "    # Print the token ID and the corresponding token\n",
    "    print(f\"{t.item()}_____{text_tokenizer.decoder.get(int(t))}\")\n",
    "    "
   ]
  },
  {
   "cell_type": "code",
   "execution_count": null,
   "metadata": {},
   "outputs": [],
   "source": [
    "text_encoder?"
   ]
  },
  {
   "cell_type": "markdown",
   "metadata": {},
   "source": [
    "Passing down the token to the encoder to generate the embedding."
   ]
  },
  {
   "cell_type": "code",
   "execution_count": null,
   "metadata": {},
   "outputs": [],
   "source": [
    "output_embeddings=text_encoder(text_input.input_ids.to(\"cuda\"))[0]\n",
    "print(\"Shape\",output_embeddings.shape)\n",
    "output_embeddings"
   ]
  },
  {
   "cell_type": "code",
   "execution_count": null,
   "metadata": {},
   "outputs": [],
   "source": [
    "# Our text encoder is a clip model, composed of the token embeeding and positional encoding embedding\n",
    "text_encoder.text_model.embeddings"
   ]
  },
  {
   "cell_type": "markdown",
   "metadata": {},
   "source": [
    "#### Token embeddings\n",
    "\n",
    "The token is fed to the token_embedding to transform it into a vector. The function name *get_input_embeddings* here is misleading since these token embeddings need to be combined with the position embeddings before they are actually used as inputs to the model! Anyway, let's look at just the token embedding part first\n",
    "\n",
    "We can look at the embedding layer:\n"
   ]
  },
  {
   "cell_type": "code",
   "execution_count": null,
   "metadata": {},
   "outputs": [],
   "source": [
    "embedding_layer=text_encoder.text_model.embeddings.token_embedding\n",
    "embedding_layer # Vocab size and embedding size"
   ]
  },
  {
   "cell_type": "code",
   "execution_count": null,
   "metadata": {},
   "outputs": [],
   "source": [
    "#2583_____snow token ID 2583 corresponds to the token \"snow\", and by passing it we can see the mapping of this token to the embedding space. should be 786\n",
    "token_embeddings=embedding_layer(torch.tensor(2583).to(\"cuda\"))\n",
    "token_embeddings.shape"
   ]
  },
  {
   "cell_type": "markdown",
   "metadata": {},
   "source": [
    "Similarly we can pass the complete tokens we have generated from the original prompt and generate its embeddings to further pass down to the model"
   ]
  },
  {
   "cell_type": "code",
   "execution_count": null,
   "metadata": {},
   "outputs": [],
   "source": [
    "token_embeddings=embedding_layer(text_input.input_ids.to(\"cuda\"))\n",
    "print(f\"shape of the token embeddings :{token_embeddings.shape} \\n Token embeddings :{token_embeddings}\")\n"
   ]
  },
  {
   "cell_type": "markdown",
   "metadata": {},
   "source": [
    "### Positional Embeddings\n",
    "\n",
    "Positional embeddings tell the model where in a sequence a token is. Much like the token embedding, this is a set of (optionally learnable) parameters. But now instead of dealing with ~50k tokens we just need one for each position (77 total):\n"
   ]
  },
  {
   "cell_type": "code",
   "execution_count": null,
   "metadata": {},
   "outputs": [],
   "source": [
    "position_embedding_layer=text_encoder.text_model.embeddings.position_embedding\n",
    "position_embedding_layer # Max position and embedding size\n"
   ]
  },
  {
   "cell_type": "code",
   "execution_count": null,
   "metadata": {},
   "outputs": [],
   "source": [
    "# We can get the positional embedding for each position\n",
    "position_ids=text_encoder.text_model.embeddings.position_ids\n",
    "position_embeddings=position_embedding_layer(position_ids.to(\"cuda\"))\n",
    "print(f\"Shape of the position embeddings :{position_embeddings.shape} \\n Position embeddings :{position_embeddings}\")"
   ]
  },
  {
   "cell_type": "code",
   "execution_count": null,
   "metadata": {},
   "outputs": [],
   "source": [
    "token_embeddings.shape,position_embeddings.shape"
   ]
  },
  {
   "cell_type": "code",
   "execution_count": null,
   "metadata": {},
   "outputs": [],
   "source": [
    "# Combine the token and positional embeddings\n",
    "input_embeddings=token_embeddings+position_embeddings \n",
    "print(f\"Shape of the input embeddings :{input_embeddings.shape}\")"
   ]
  },
  {
   "attachments": {
    "image.png": {
     "image/png": "[encoded data removed]"
    }
   },
   "cell_type": "markdown",
   "metadata": {},
   "source": [
    "### Feeding these through the transformer model\n",
    "![image.png](attachment:image.png)\n",
    "\n",
    "We want to mess with these input embeddings (specifically the token embeddings) before we send them through the rest of the model, but first we should check that we know how to do that. I read the code of the text_encoders forward method, and based on that the code for the forward method of the text_model that the text_encoder wraps. To inspect it yourself, type ??text_encoder.text_model.forward and you'll get the function info and source code - a useful debugging trick!"
   ]
  },
  {
   "cell_type": "code",
   "execution_count": null,
   "metadata": {},
   "outputs": [],
   "source": [
    "batch_size,seq_length,embedding_size=input_embeddings.shape\n",
    "print(f\"Batch size :{batch_size} \\n Sequence length :{seq_length} \\n Embedding size :{embedding_size}\")"
   ]
  },
  {
   "cell_type": "code",
   "execution_count": null,
   "metadata": {},
   "outputs": [],
   "source": [
    "text_encoder.text_model.encoder."
   ]
  },
  {
   "cell_type": "code",
   "execution_count": 252,
   "metadata": {},
   "outputs": [],
   "source": [
    "def get_output_embeds(input_embeddings):\n",
    "    # CLIP's text model uses causal mask, so we prepare it here:\n",
    "    bsz, seq_len = input_embeddings.shape[:2]\n",
    "    causal_attention_mask = text_encoder.text_model._build_causal_attention_mask(bsz, seq_len, dtype=input_embeddings.dtype)\n",
    "\n",
    "    # Getting the output embeddings involves calling the model with passing output_hidden_states=True\n",
    "    # so that it doesn't just return the pooled final predictions:\n",
    "    encoder_outputs = text_encoder.text_model.encoder(\n",
    "        inputs_embeds=input_embeddings,\n",
    "        attention_mask=None, # We aren't using an attention mask so that can be None\n",
    "        causal_attention_mask=causal_attention_mask.to(torch_device),\n",
    "        output_attentions=None,\n",
    "        output_hidden_states=True, # We want the output embs not the final output\n",
    "        return_dict=None,\n",
    "    )\n",
    "\n",
    "    # We're interested in the output hidden state only\n",
    "    output = encoder_outputs[0]\n",
    "\n",
    "    # There is a final layer norm we need to pass these through\n",
    "    output = text_encoder.text_model.final_layer_norm(output)\n",
    "\n",
    "    # And now they're ready!\n",
    "    return output\n"
   ]
  },
  {
   "cell_type": "code",
   "execution_count": null,
   "metadata": {},
   "outputs": [],
   "source": [
    "out_embs_test = get_output_embeds(input_embeddings) # Feed through the model with our new function"
   ]
  },
  {
   "cell_type": "code",
   "execution_count": null,
   "metadata": {},
   "outputs": [],
   "source": [
    "import torch\n",
    "import torch.nn as nn\n",
    "\n",
    "class TransformerEmbedding(nn.Module):\n",
    "    def __init__(self, vocab_size, embed_dim, max_position_embeddings):\n",
    "        super(TransformerEmbedding, self).__init__()\n",
    "        self.token_embedding = nn.Embedding(vocab_size, embed_dim)\n",
    "        self.position_embedding = nn.Embedding(max_position_embeddings, embed_dim)\n",
    "        self.embed_dim = embed_dim\n",
    "\n",
    "    def forward(self, input_ids):\n",
    "        # Get the token embeddings\n",
    "        token_embeddings = self.token_embedding(input_ids)\n",
    "        \n",
    "        # Create position ids\n",
    "        position_ids = torch.arange(input_ids.size(1), dtype=torch.long, device=input_ids.device)\n",
    "        position_ids = position_ids.unsqueeze(0).expand_as(input_ids)\n",
    "        \n",
    "        # Get the positional embeddings\n",
    "        positional_embeddings = self.position_embedding(position_ids)\n",
    "        \n",
    "        # Combine token and positional embeddings\n",
    "        embeddings = token_embeddings + positional_embeddings\n",
    "        return embeddings\n",
    "\n",
    "# Example usage\n",
    "vocab_size = 30522\n",
    "embed_dim = 512\n",
    "max_position_embeddings = 512\n",
    "\n",
    "model = TransformerEmbedding(vocab_size, embed_dim, max_position_embeddings)\n",
    "input_ids = torch.tensor([[101, 2054, 2003, 1996, 2171, 102]])  # Example input token IDs\n",
    "embeddings = model(input_ids)\n",
    "print(embeddings.shape)  # Output: torch.Size([1, 6, 512])"
   ]
  },
  {
   "cell_type": "code",
   "execution_count": null,
   "metadata": {},
   "outputs": [],
   "source": []
  }
 ],
 "metadata": {
  "kernelspec": {
   "display_name": "CV_Zero2Hero",
   "language": "python",
   "name": "python3"
  },
  "language_info": {
   "codemirror_mode": {
    "name": "ipython",
    "version": 3
   },
   "file_extension": ".py",
   "mimetype": "text/x-python",
   "name": "python",
   "nbconvert_exporter": "python",
   "pygments_lexer": "ipython3",
   "version": "3.11.5"
  }
 },
 "nbformat": 4,
 "nbformat_minor": 2
}
